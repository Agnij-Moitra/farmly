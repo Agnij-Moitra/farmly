{
 "cells": [
  {
   "cell_type": "code",
   "execution_count": 41,
   "id": "8453fe86",
   "metadata": {},
   "outputs": [],
   "source": [
    "import pandas as pd\n",
    "from sklearn.ensemble import RandomForestRegressor\n",
    "from sklearn.model_selection import train_test_split\n",
    "from sklearn.preprocessing import LabelEncoder\n",
    "import pickle\n",
    "\n",
    "path = r'./Crop_recommendation.csv'"
   ]
  },
  {
   "cell_type": "code",
   "execution_count": 42,
   "id": "7cf039dd",
   "metadata": {},
   "outputs": [],
   "source": [
    "df = pd.read_csv(path)"
   ]
  },
  {
   "cell_type": "code",
   "execution_count": 43,
   "id": "88219d6f",
   "metadata": {},
   "outputs": [
    {
     "data": {
      "text/html": [
       "<div>\n",
       "<style scoped>\n",
       "    .dataframe tbody tr th:only-of-type {\n",
       "        vertical-align: middle;\n",
       "    }\n",
       "\n",
       "    .dataframe tbody tr th {\n",
       "        vertical-align: top;\n",
       "    }\n",
       "\n",
       "    .dataframe thead th {\n",
       "        text-align: right;\n",
       "    }\n",
       "</style>\n",
       "<table border=\"1\" class=\"dataframe\">\n",
       "  <thead>\n",
       "    <tr style=\"text-align: right;\">\n",
       "      <th></th>\n",
       "      <th>N</th>\n",
       "      <th>P</th>\n",
       "      <th>K</th>\n",
       "      <th>temperature</th>\n",
       "      <th>humidity</th>\n",
       "      <th>ph</th>\n",
       "      <th>rainfall</th>\n",
       "      <th>label</th>\n",
       "    </tr>\n",
       "  </thead>\n",
       "  <tbody>\n",
       "    <tr>\n",
       "      <th>0</th>\n",
       "      <td>90</td>\n",
       "      <td>42</td>\n",
       "      <td>43</td>\n",
       "      <td>20.879744</td>\n",
       "      <td>82.002744</td>\n",
       "      <td>6.502985</td>\n",
       "      <td>202.935536</td>\n",
       "      <td>rice</td>\n",
       "    </tr>\n",
       "    <tr>\n",
       "      <th>1</th>\n",
       "      <td>85</td>\n",
       "      <td>58</td>\n",
       "      <td>41</td>\n",
       "      <td>21.770462</td>\n",
       "      <td>80.319644</td>\n",
       "      <td>7.038096</td>\n",
       "      <td>226.655537</td>\n",
       "      <td>rice</td>\n",
       "    </tr>\n",
       "    <tr>\n",
       "      <th>2</th>\n",
       "      <td>60</td>\n",
       "      <td>55</td>\n",
       "      <td>44</td>\n",
       "      <td>23.004459</td>\n",
       "      <td>82.320763</td>\n",
       "      <td>7.840207</td>\n",
       "      <td>263.964248</td>\n",
       "      <td>rice</td>\n",
       "    </tr>\n",
       "    <tr>\n",
       "      <th>3</th>\n",
       "      <td>74</td>\n",
       "      <td>35</td>\n",
       "      <td>40</td>\n",
       "      <td>26.491096</td>\n",
       "      <td>80.158363</td>\n",
       "      <td>6.980401</td>\n",
       "      <td>242.864034</td>\n",
       "      <td>rice</td>\n",
       "    </tr>\n",
       "    <tr>\n",
       "      <th>4</th>\n",
       "      <td>78</td>\n",
       "      <td>42</td>\n",
       "      <td>42</td>\n",
       "      <td>20.130175</td>\n",
       "      <td>81.604873</td>\n",
       "      <td>7.628473</td>\n",
       "      <td>262.717340</td>\n",
       "      <td>rice</td>\n",
       "    </tr>\n",
       "  </tbody>\n",
       "</table>\n",
       "</div>"
      ],
      "text/plain": [
       "    N   P   K  temperature   humidity        ph    rainfall label\n",
       "0  90  42  43    20.879744  82.002744  6.502985  202.935536  rice\n",
       "1  85  58  41    21.770462  80.319644  7.038096  226.655537  rice\n",
       "2  60  55  44    23.004459  82.320763  7.840207  263.964248  rice\n",
       "3  74  35  40    26.491096  80.158363  6.980401  242.864034  rice\n",
       "4  78  42  42    20.130175  81.604873  7.628473  262.717340  rice"
      ]
     },
     "execution_count": 43,
     "metadata": {},
     "output_type": "execute_result"
    }
   ],
   "source": [
    "df.head()"
   ]
  },
  {
   "cell_type": "code",
   "execution_count": 44,
   "id": "d278cee8",
   "metadata": {},
   "outputs": [],
   "source": [
    "labelencoder = LabelEncoder()\n",
    "df['label_cat'] = labelencoder.fit_transform(df['label'])\n",
    "y = df[['label_cat', \"N\", \"P\", \"K\"]]\n",
    "X = df.drop(['label', \"label_cat\", \"N\", \"P\", \"K\"], axis=1)\n",
    "train_X, val_X, train_y, val_y = train_test_split(X, y, train_size=0.8, test_size=0.2,\n",
    "                                                                random_state=0)\n"
   ]
  },
  {
   "cell_type": "code",
   "execution_count": 45,
   "id": "435978a8",
   "metadata": {},
   "outputs": [
    {
     "name": "stdout",
     "output_type": "stream",
     "text": [
      "Accuracy: 98.46307429326829\n"
     ]
    }
   ],
   "source": [
    "model = RandomForestRegressor()\n",
    "model.fit(X, y)\n",
    "print(f\"Accuracy: {model.score(val_X, val_y) * 100}\")"
   ]
  },
  {
   "cell_type": "code",
   "execution_count": 46,
   "id": "fa471436",
   "metadata": {},
   "outputs": [
    {
     "data": {
      "text/plain": [
       "'rice'"
      ]
     },
     "execution_count": 46,
     "metadata": {},
     "output_type": "execute_result"
    }
   ],
   "source": [
    "mapper = dict(zip(labelencoder.classes_,range(len(labelencoder.classes_)))) # https://stackoverflow.com/questions/42196589/any-way-to-get-mappings-of-a-label-encoder-in-python-pandas\n",
    "list(mapper.keys())[list(mapper.values()).index(20)] # https://www.geeksforgeeks.org/python-get-key-from-value-in-dictionary/"
   ]
  },
  {
   "cell_type": "code",
   "execution_count": 51,
   "id": "c1890135",
   "metadata": {},
   "outputs": [
    {
     "data": {
      "text/plain": [
       "{'apple': 0,\n",
       " 'banana': 1,\n",
       " 'blackgram': 2,\n",
       " 'chickpea': 3,\n",
       " 'coconut': 4,\n",
       " 'coffee': 5,\n",
       " 'cotton': 6,\n",
       " 'grapes': 7,\n",
       " 'jute': 8,\n",
       " 'kidneybeans': 9,\n",
       " 'lentil': 10,\n",
       " 'maize': 11,\n",
       " 'mango': 12,\n",
       " 'mothbeans': 13,\n",
       " 'mungbean': 14,\n",
       " 'muskmelon': 15,\n",
       " 'orange': 16,\n",
       " 'papaya': 17,\n",
       " 'pigeonpeas': 18,\n",
       " 'pomegranate': 19,\n",
       " 'rice': 20,\n",
       " 'watermelon': 21}"
      ]
     },
     "execution_count": 51,
     "metadata": {},
     "output_type": "execute_result"
    }
   ],
   "source": [
    "mapper"
   ]
  },
  {
   "cell_type": "code",
   "execution_count": 47,
   "id": "5ce2eb65",
   "metadata": {},
   "outputs": [],
   "source": [
    "# # export the model\n",
    "# with open(\"model_pickle\", \"wb\") as f:\n",
    "#     pickle.dump(model, f)"
   ]
  },
  {
   "cell_type": "code",
   "execution_count": 48,
   "id": "541a66bc",
   "metadata": {},
   "outputs": [],
   "source": [
    "# # test import\n",
    "# with open('model_pickle', \"rb\") as f:\n",
    "#     imported_model = pickle.load(f)"
   ]
  },
  {
   "cell_type": "code",
   "execution_count": 49,
   "id": "ae371852",
   "metadata": {},
   "outputs": [
    {
     "data": {
      "text/plain": [
       "98.55465689838647"
      ]
     },
     "execution_count": 49,
     "metadata": {},
     "output_type": "execute_result"
    }
   ],
   "source": [
    "imported_model.score(val_X, val_y) * 100"
   ]
  },
  {
   "cell_type": "code",
   "execution_count": 50,
   "id": "4561cd6b",
   "metadata": {},
   "outputs": [
    {
     "data": {
      "text/plain": [
       "8.9"
      ]
     },
     "execution_count": 50,
     "metadata": {},
     "output_type": "execute_result"
    }
   ],
   "source": [
    "list(imported_model.predict([[34, 7, 4, 5]])[0])[0]"
   ]
  }
 ],
 "metadata": {
  "interpreter": {
   "hash": "e48b3f1d990cb72d1944944ad3d71627b5fdd5ce06d90b14b58ee0edc9153770"
  },
  "kernelspec": {
   "display_name": "Python 3.9.7 64-bit",
   "name": "python3"
  },
  "language_info": {
   "codemirror_mode": {
    "name": "ipython",
    "version": 3
   },
   "file_extension": ".py",
   "mimetype": "text/x-python",
   "name": "python",
   "nbconvert_exporter": "python",
   "pygments_lexer": "ipython3",
   "version": "3.9.7"
  }
 },
 "nbformat": 4,
 "nbformat_minor": 5
}
